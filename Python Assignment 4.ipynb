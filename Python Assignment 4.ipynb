{
 "cells": [
  {
   "cell_type": "markdown",
   "metadata": {},
   "source": [
    "1.1 Write a Python Program(with class concepts) to find the area of the triangle using the below formula.\n",
    "area = (s*(s-a)*(s-b)*(s-c)) ** 0.5\n",
    "Function to take the length of the sides of triangle from user should be defined in the parent\n",
    "class and function to calculate the area should be defined in subclass."
   ]
  },
  {
   "cell_type": "code",
   "execution_count": 12,
   "metadata": {},
   "outputs": [
    {
     "name": "stdout",
     "output_type": "stream",
     "text": [
      "Enter the length of the sides of triangle  : 3\n",
      "Side 1 :2\n",
      "Side 2 :6\n",
      "Side 3 :7\n",
      "Area of Triangle is :  5.562148865321747\n"
     ]
    }
   ],
   "source": [
    "class Triangle:\n",
    "    (int(input(\"Enter the length of the sides of triangle  : \")))\n",
    "    def input_sides(self):\n",
    "        self.a = int(input('Side 1 :'))\n",
    "        self.b = int(input('Side 2 :'))\n",
    "        self.c = int(input('Side 3 :'))\n",
    "class Area(Triangle):\n",
    "    def calculate(self):\n",
    "        s=(self.a + self.b + self.c)/2\n",
    "        r=(s*((s-self.a)*(s-self.b)*(s-self.c)))** 0.5\n",
    "        print('Area of Triangle is : ',r)\n",
    "a = Area()\n",
    "a.input_sides()\n",
    "a.calculate()\n"
   ]
  },
  {
   "cell_type": "markdown",
   "metadata": {},
   "source": [
    "1.2 Write a function filter_long_words() that takes a list of words and an integer n and returns the list of words that are longer than n."
   ]
  },
  {
   "cell_type": "code",
   "execution_count": 32,
   "metadata": {},
   "outputs": [
    {
     "name": "stdout",
     "output_type": "stream",
     "text": [
      "['abcde', 'zxcw']\n"
     ]
    }
   ],
   "source": [
    "def filter_long_words(words, n):\n",
    "    return [word for word in words if len(word) > n]\n",
    "\n",
    "print (filter_long_words(['a', 'avg', 'abcde', 'zxcw', 'b'], 3)) "
   ]
  },
  {
   "cell_type": "markdown",
   "metadata": {},
   "source": [
    "2.1 Write a Python program using function concept that maps list of words into a list of integers representing the lengths of the corresponding words.\n",
    "Hint: If a list [ ab,cde,erty] is passed on to the python function output should come as [2,3,4]\n",
    "Here 2,3 and 4 are the lengths of the words in the list."
   ]
  },
  {
   "cell_type": "code",
   "execution_count": 36,
   "metadata": {},
   "outputs": [
    {
     "name": "stdout",
     "output_type": "stream",
     "text": [
      "[5, 11, 3, 3, 3]\n"
     ]
    }
   ],
   "source": [
    "def len_words(words):\n",
    "     return list(map(lambda x: len(x), words))\n",
    "print(len_words(['hello','goodmorning','how','are','you']))"
   ]
  },
  {
   "cell_type": "markdown",
   "metadata": {},
   "source": [
    "2.2 Write a Python function which takes a character (i.e. a string of length 1) and returns True if it is a vowel, False otherwise. "
   ]
  },
  {
   "cell_type": "code",
   "execution_count": 41,
   "metadata": {},
   "outputs": [
    {
     "name": "stdout",
     "output_type": "stream",
     "text": [
      "Enter a string of length 1 :s\n"
     ]
    },
    {
     "data": {
      "text/plain": [
       "False"
      ]
     },
     "execution_count": 41,
     "metadata": {},
     "output_type": "execute_result"
    }
   ],
   "source": [
    "def vowel_check(char):\n",
    "    if(char == 'a' or char == 'e' or char == 'i' or char == 'o' or char == 'u'):\n",
    "        return True\n",
    "    else:\n",
    "        return False\n",
    "    \n",
    "vowel_check(input('Enter a string of length 1 :'))\n"
   ]
  }
 ],
 "metadata": {
  "kernelspec": {
   "display_name": "Python 3",
   "language": "python",
   "name": "python3"
  },
  "language_info": {
   "codemirror_mode": {
    "name": "ipython",
    "version": 3
   },
   "file_extension": ".py",
   "mimetype": "text/x-python",
   "name": "python",
   "nbconvert_exporter": "python",
   "pygments_lexer": "ipython3",
   "version": "3.7.6"
  }
 },
 "nbformat": 4,
 "nbformat_minor": 4
}
